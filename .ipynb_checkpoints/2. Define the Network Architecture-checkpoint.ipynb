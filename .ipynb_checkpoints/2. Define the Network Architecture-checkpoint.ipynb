{
 "cells": [
  {
   "cell_type": "markdown",
   "metadata": {},
   "source": [
    "## Define the Convolutional Neural Network\n",
    "\n",
    "After you've looked at the data you're working with and, in this case, know the shapes of the images and of the keypoints, you are ready to define a convolutional neural network that can *learn* from this data.\n",
    "\n",
    "In this notebook and in `models.py`, you will:\n",
    "1. Define a CNN with images as input and keypoints as output\n",
    "2. Construct the transformed FaceKeypointsDataset, just as before\n",
    "3. Train the CNN on the training data, tracking loss\n",
    "4. See how the trained model performs on test data\n",
    "5. If necessary, modify the CNN structure and model hyperparameters, so that it performs *well* **\\***\n",
    "\n",
    "**\\*** What does *well* mean?\n",
    "\n",
    "\"Well\" means that the model's loss decreases during training **and**, when applied to test image data, the model produces keypoints that closely match the true keypoints of each face. And you'll see examples of this later in the notebook.\n",
    "\n",
    "---\n"
   ]
  },
  {
   "cell_type": "markdown",
   "metadata": {},
   "source": [
    "## CNN Architecture\n",
    "\n",
    "Recall that CNN's are defined by a few types of layers:\n",
    "* Convolutional layers\n",
    "* Maxpooling layers\n",
    "* Fully-connected layers\n",
    "\n",
    "You are required to use the above layers and encouraged to add multiple convolutional layers and things like dropout layers that may prevent overfitting. You are also encouraged to look at literature on keypoint detection, such as [this paper](https://arxiv.org/pdf/1710.00977.pdf), to help you determine the structure of your network.\n",
    "\n",
    "\n",
    "### TODO: Define your model in the provided file `models.py` file\n",
    "\n",
    "This file is mostly empty but contains the expected name and some TODO's for creating your model.\n",
    "\n",
    "---"
   ]
  },
  {
   "cell_type": "markdown",
   "metadata": {},
   "source": [
    "## PyTorch Neural Nets\n",
    "\n",
    "To define a neural network in PyTorch, you define the layers of a model in the function `__init__` and define the feedforward behavior of a network that employs those initialized layers in the function `forward`, which takes in an input image tensor, `x`. The structure of this Net class is shown below and left for you to fill in.\n",
    "\n",
    "Note: During training, PyTorch will be able to perform backpropagation by keeping track of the network's feedforward behavior and using autograd to calculate the update to the weights in the network.\n",
    "\n",
    "#### Define the Layers in ` __init__`\n",
    "As a reminder, a conv/pool layer may be defined like this (in `__init__`):\n",
    "```\n",
    "# 1 input image channel (for grayscale images), 32 output channels/feature maps, 3x3 square convolution kernel\n",
    "self.conv1 = nn.Conv2d(1, 32, 3)\n",
    "\n",
    "# maxpool that uses a square window of kernel_size=2, stride=2\n",
    "self.pool = nn.MaxPool2d(2, 2)      \n",
    "```\n",
    "\n",
    "#### Refer to Layers in `forward`\n",
    "Then referred to in the `forward` function like this, in which the conv1 layer has a ReLu activation applied to it before maxpooling is applied:\n",
    "```\n",
    "x = self.pool(F.relu(self.conv1(x)))\n",
    "```\n",
    "\n",
    "Best practice is to place any layers whose weights will change during the training process in `__init__` and refer to them in the `forward` function; any layers or functions that always behave in the same way, such as a pre-defined activation function, should appear *only* in the `forward` function."
   ]
  },
  {
   "cell_type": "markdown",
   "metadata": {},
   "source": [
    "#### Why models.py\n",
    "\n",
    "You are tasked with defining the network in the `models.py` file so that any models you define can be saved and loaded by name in different notebooks in this project directory. For example, by defining a CNN class called `Net` in `models.py`, you can then create that same architecture in this and other notebooks by simply importing the class and instantiating a model:\n",
    "```\n",
    "    from models import Net\n",
    "    net = Net()\n",
    "```"
   ]
  },
  {
   "cell_type": "code",
   "execution_count": 2,
   "metadata": {
    "pycharm": {
     "is_executing": true
    }
   },
   "outputs": [],
   "source": [
    "# import the usual resources\n",
    "#import matplotlib\n",
    "import sys,os\n",
    "os.environ['KMP_DUPLICATE_LIB_OK']='True'\n",
    "%matplotlib inline\n",
    "import matplotlib.pyplot as plt\n",
    "\n",
    "\n",
    "import numpy as np\n",
    "\n",
    "# watch for any changes in model.py, if it changes, re-load it automatically\n",
    "%load_ext autoreload\n",
    "%autoreload 2"
   ]
  },
  {
   "cell_type": "code",
   "execution_count": 3,
   "metadata": {
    "pycharm": {
     "is_executing": true
    }
   },
   "outputs": [
    {
     "name": "stdout",
     "output_type": "stream",
     "text": [
      "cuda\n",
      "Net(\n",
      "  (conv1): Conv2d(1, 32, kernel_size=(5, 5), stride=(1, 1))\n",
      "  (pool): MaxPool2d(kernel_size=2, stride=2, padding=0, dilation=1, ceil_mode=False)\n",
      "  (conv2): Conv2d(32, 64, kernel_size=(3, 3), stride=(1, 1))\n",
      "  (conv3): Conv2d(64, 128, kernel_size=(3, 3), stride=(1, 1))\n",
      "  (conv4): Conv2d(128, 256, kernel_size=(3, 3), stride=(1, 1))\n",
      "  (conv5): Conv2d(256, 512, kernel_size=(1, 1), stride=(1, 1))\n",
      "  (fc1): Linear(in_features=18432, out_features=1024, bias=True)\n",
      "  (fc2): Linear(in_features=1024, out_features=512, bias=True)\n",
      "  (fc3): Linear(in_features=512, out_features=136, bias=True)\n",
      "  (dropout): Dropout(p=0.25, inplace=False)\n",
      ")\n"
     ]
    }
   ],
   "source": [
    "## TODO: Define the Net in models.py\n",
    "\n",
    "import torch\n",
    "import torch.nn as nn\n",
    "import torch.nn.functional as F\n",
    "\n",
    "prod = False\n",
    "prefix = 'data'\n",
    "prefix1 = ''\n",
    "if prod:\n",
    "    prefix='/oob/data/p1fkpoints'\n",
    "    prefix1 = '/oob/'\n",
    "    \n",
    "## TODO: Once you've define the network, you can instantiate it\n",
    "# one example conv layer has been provided for you\n",
    "from models import Net\n",
    "\n",
    "\n",
    "no_cuda = False\n",
    "use_cuda = not no_cuda and torch.cuda.is_available()\n",
    "device = torch.device(\"cuda\" if use_cuda else \"cpu\")\n",
    "print(device)\n",
    "net = Net().to(device)\n",
    "print(net)"
   ]
  },
  {
   "cell_type": "code",
   "execution_count": null,
   "metadata": {
    "pycharm": {
     "is_executing": true
    }
   },
   "outputs": [],
   "source": []
  },
  {
   "cell_type": "code",
   "execution_count": null,
   "metadata": {
    "pycharm": {
     "is_executing": true
    }
   },
   "outputs": [],
   "source": []
  },
  {
   "cell_type": "markdown",
   "metadata": {
    "collapsed": true
   },
   "source": [
    "## Transform the dataset \n",
    "\n",
    "To prepare for training, create a transformed dataset of images and keypoints.\n",
    "\n",
    "### TODO: Define a data transform\n",
    "\n",
    "In PyTorch, a convolutional neural network expects a torch image of a consistent size as input. For efficient training, and so your model's loss does not blow up during training, it is also suggested that you normalize the input images and keypoints. The necessary transforms have been defined in `data_load.py` and you **do not** need to modify these; take a look at this file (you'll see the same transforms that were defined and applied in Notebook 1).\n",
    "\n",
    "To define the data transform below, use a [composition](http://pytorch.org/tutorials/beginner/data_loading_tutorial.html#compose-transforms) of:\n",
    "1. Rescaling and/or cropping the data, such that you are left with a square image (the suggested size is 224x224px)\n",
    "2. Normalizing the images and keypoints; turning each RGB image into a grayscale image with a color range of [0, 1] and transforming the given keypoints into a range of [-1, 1]\n",
    "3. Turning these images and keypoints into Tensors\n",
    "\n",
    "These transformations have been defined in `data_load.py`, but it's up to you to call them and create a `data_transform` below. **This transform will be applied to the training data and, later, the test data**. It will change how you go about displaying these images and keypoints, but these steps are essential for efficient training.\n",
    "\n",
    "As a note, should you want to perform data augmentation (which is optional in this project), and randomly rotate or shift these images, a square image size will be useful; rotating a 224x224 image by 90 degrees will result in the same shape of output."
   ]
  },
  {
   "cell_type": "code",
   "execution_count": 4,
   "metadata": {
    "pycharm": {
     "is_executing": true
    }
   },
   "outputs": [],
   "source": [
    "from torch.utils.data import Dataset, DataLoader\n",
    "from torchvision import transforms, utils\n",
    "\n",
    "# the dataset we created in Notebook 1 is copied in the helper file `data_load.py`\n",
    "from data_load import FacialKeypointsDataset\n",
    "# the transforms we defined in Notebook 1 are in the helper file `data_load.py`\n",
    "from data_load import Rescale, RandomCrop, Normalize, ToTensor\n",
    "\n",
    "\n",
    "## TODO: define the data_transform using transforms.Compose([all tx's, . , .])\n",
    "# order matters! i.e. rescaling should come before a smaller crop\n",
    "#data_transform = None\n",
    "data_transform  = transforms.Compose([Rescale(250),\n",
    "                                    RandomCrop(224),\n",
    "                                    Normalize(),\n",
    "                                    ToTensor()])\n",
    "\n",
    "# testing that you've defined a transform\n",
    "assert(data_transform is not None), 'Define a data_transform'"
   ]
  },
  {
   "cell_type": "code",
   "execution_count": 5,
   "metadata": {
    "pycharm": {
     "is_executing": true
    }
   },
   "outputs": [
    {
     "name": "stdout",
     "output_type": "stream",
     "text": [
      "Number of images:  3462\n",
      "0 torch.Size([1, 224, 224]) torch.Size([68, 2])\n",
      "1 torch.Size([1, 224, 224]) torch.Size([68, 2])\n",
      "2 torch.Size([1, 224, 224]) torch.Size([68, 2])\n",
      "3 torch.Size([1, 224, 224]) torch.Size([68, 2])\n"
     ]
    }
   ],
   "source": [
    "# create the transformed dataset\n",
    "transformed_dataset = FacialKeypointsDataset(csv_file=prefix+'/training_frames_keypoints.csv',\n",
    "                                             root_dir=prefix+'/training/',\n",
    "                                             transform=data_transform)\n",
    "\n",
    "\n",
    "print('Number of images: ', len(transformed_dataset))\n",
    "\n",
    "# iterate through the transformed dataset and print some stats about the first few samples\n",
    "for i in range(4):\n",
    "    sample = transformed_dataset[i]\n",
    "    print(i, sample['image'].size(), sample['keypoints'].size())"
   ]
  },
  {
   "cell_type": "markdown",
   "metadata": {},
   "source": [
    "## Batching and loading data\n",
    "\n",
    "Next, having defined the transformed dataset, we can use PyTorch's DataLoader class to load the training data in batches of whatever size as well as to shuffle the data for training the model. You can read more about the parameters of the DataLoader, in [this documentation](http://pytorch.org/docs/master/data.html).\n",
    "\n",
    "#### Batch size\n",
    "Decide on a good batch size for training your model. Try both small and large batch sizes and note how the loss decreases as the model trains.\n",
    "\n",
    "**Note for Windows users**: Please change the `num_workers` to 0 or you may face some issues with your DataLoader failing."
   ]
  },
  {
   "cell_type": "code",
   "execution_count": 6,
   "metadata": {
    "pycharm": {
     "is_executing": true
    }
   },
   "outputs": [],
   "source": [
    "\n",
    "\n",
    "# load training data in batches\n",
    "batch_size = 10\n",
    "\n",
    "train_kwargs = {'batch_size': batch_size, 'shuffle': True}\n",
    "test_kwargs = {'batch_size': batch_size, 'shuffle': True}\n",
    "if use_cuda:\n",
    "    cuda_kwargs = {'num_workers': 4,\n",
    "                   'pin_memory': True,\n",
    "                   'shuffle': True}\n",
    "    train_kwargs.update(cuda_kwargs)\n",
    "    test_kwargs.update(cuda_kwargs)\n",
    "    \n",
    "#train_loader = torch.utils.data.DataLoader(transformed_dataset, **train_kwargs)\n",
    "    \n",
    "\n",
    "\n",
    "train_loader = DataLoader(transformed_dataset, \n",
    "                          batch_size=batch_size,\n",
    "                          shuffle=True, \n",
    "                          num_workers=0)\n"
   ]
  },
  {
   "cell_type": "markdown",
   "metadata": {},
   "source": [
    "## Before training\n",
    "\n",
    "Take a look at how this model performs before it trains. You should see that the keypoints it predicts start off in one spot and don't match the keypoints on a face at all! It's interesting to visualize this behavior so that you can compare it to the model after training and see how the model has improved.\n",
    "\n",
    "#### Load in the test dataset\n",
    "\n",
    "The test dataset is one that this model has *not* seen before, meaning it has not trained with these images. We'll load in this test data and before and after training, see how your model performs on this set!\n",
    "\n",
    "To visualize this test data, we have to go through some un-transformation steps to turn our images into python images from tensors and to turn our keypoints back into a recognizable range. "
   ]
  },
  {
   "cell_type": "code",
   "execution_count": 7,
   "metadata": {
    "pycharm": {
     "is_executing": true
    }
   },
   "outputs": [],
   "source": [
    "# load in the test data, using the dataset class\n",
    "# AND apply the data_transform you defined above\n",
    "\n",
    "# create the test dataset\n",
    "test_dataset = FacialKeypointsDataset(csv_file=prefix+'/test_frames_keypoints.csv',\n",
    "                                             root_dir=prefix+'/test/',\n",
    "                                             transform=data_transform)\n",
    "#test_loader = torch.utils.data.DataLoader(test_data, **test_kwargs)\n",
    "\n"
   ]
  },
  {
   "cell_type": "code",
   "execution_count": 8,
   "metadata": {
    "pycharm": {
     "is_executing": true
    }
   },
   "outputs": [],
   "source": [
    "# load test data in batches\n",
    "batch_size = 10\n",
    "\n",
    "test_loader = DataLoader(test_dataset, \n",
    "                          batch_size=batch_size,\n",
    "                          shuffle=True, \n",
    "                          num_workers=0)"
   ]
  },
  {
   "cell_type": "markdown",
   "metadata": {},
   "source": [
    "## Apply the model on a test sample\n",
    "\n",
    "To test the model on a test sample of data, you have to follow these steps:\n",
    "1. Extract the image and ground truth keypoints from a sample\n",
    "2. Make sure the image is a FloatTensor, which the model expects.\n",
    "3. Forward pass the image through the net to get the predicted, output keypoints.\n",
    "\n",
    "This function test how the network performs on the first batch of test data. It returns the images, the transformed images, the predicted keypoints (produced by the model), and the ground truth keypoints."
   ]
  },
  {
   "cell_type": "code",
   "execution_count": 9,
   "metadata": {
    "pycharm": {
     "is_executing": true
    }
   },
   "outputs": [],
   "source": [
    "# test the model on a batch of test images\n",
    "\n",
    "def net_sample_output():\n",
    "    \n",
    "    # iterate through the test dataset\n",
    "    for i, sample in enumerate(test_loader):\n",
    "        \n",
    "        # get sample data: images and ground truth keypoints\n",
    "        images = sample['image']\n",
    "        key_pts = sample['keypoints']\n",
    "\n",
    "        # convert images to FloatTensors\n",
    "        #images = images.type(torch.FloatTensor)\n",
    "        images_cpy = images\n",
    "        images = images.to(device)\n",
    "        key_pts = key_pts.to(device)\n",
    "\n",
    "        # forward pass to get net output\n",
    "        output_pts = net(images).to(device)\n",
    "        #output_pts = net(images)\n",
    "        \n",
    "        \n",
    "        # reshape to batch_size x 68 x 2 pts\n",
    "        output_pts = output_pts.view(output_pts.size()[0], 68, -1)\n",
    "        \n",
    "        # break after first image is tested\n",
    "        if i == 0:\n",
    "            return images_cpy, output_pts, key_pts\n",
    "            "
   ]
  },
  {
   "cell_type": "markdown",
   "metadata": {},
   "source": [
    "#### Debugging tips\n",
    "\n",
    "If you get a size or dimension error here, make sure that your network outputs the expected number of keypoints! Or if you get a Tensor type error, look into changing the above code that casts the data into float types: `images = images.type(torch.FloatTensor)`."
   ]
  },
  {
   "cell_type": "code",
   "execution_count": 10,
   "metadata": {
    "pycharm": {
     "is_executing": true
    }
   },
   "outputs": [
    {
     "name": "stdout",
     "output_type": "stream",
     "text": [
      "torch.Size([10, 1, 224, 224])\n",
      "torch.Size([10, 68, 2])\n",
      "torch.Size([10, 68, 2])\n"
     ]
    }
   ],
   "source": [
    "# call the above function\n",
    "# returns: test images, test predicted keypoints, test ground truth keypoints\n",
    "test_images, test_outputs, gt_pts = net_sample_output()\n",
    "\n",
    "# print out the dimensions of the data to see if they make sense\n",
    "print(test_images.data.size())\n",
    "print(test_outputs.data.size())\n",
    "print(gt_pts.size())"
   ]
  },
  {
   "cell_type": "markdown",
   "metadata": {},
   "source": [
    "## Visualize the predicted keypoints\n",
    "\n",
    "Once we've had the model produce some predicted output keypoints, we can visualize these points in a way that's similar to how we've displayed this data before, only this time, we have to \"un-transform\" the image/keypoint data to display it.\n",
    "\n",
    "Note that I've defined a *new* function, `show_all_keypoints` that displays a grayscale image, its predicted keypoints and its ground truth keypoints (if provided)."
   ]
  },
  {
   "cell_type": "code",
   "execution_count": 11,
   "metadata": {
    "pycharm": {
     "is_executing": true
    }
   },
   "outputs": [],
   "source": [
    "def show_all_keypoints(image, predicted_key_pts, gt_pts=None):\n",
    "    \"\"\"Show image with predicted keypoints\"\"\"\n",
    "    # image is grayscale\n",
    "    #print('inside')\n",
    "    plt.imshow(image, cmap='gray')\n",
    "    plt.scatter(predicted_key_pts[:, 0], predicted_key_pts[:, 1], s=20, marker='.', c='m')\n",
    "    # plot ground truth points as green pts\n",
    "    if gt_pts is not None:\n",
    "        plt.scatter(gt_pts[:, 0], gt_pts[:, 1], s=20, marker='.', c='g')\n"
   ]
  },
  {
   "cell_type": "markdown",
   "metadata": {},
   "source": [
    "#### Un-transformation\n",
    "\n",
    "Next, you'll see a helper function. `visualize_output` that takes in a batch of images, predicted keypoints, and ground truth keypoints and displays a set of those images and their true/predicted keypoints.\n",
    "\n",
    "This function's main role is to take batches of image and keypoint data (the input and output of your CNN), and transform them into numpy images and un-normalized keypoints (x, y) for normal display. The un-transformation process turns keypoints and images into numpy arrays from Tensors *and* it undoes the keypoint normalization done in the Normalize() transform; it's assumed that you applied these transformations when you loaded your test data."
   ]
  },
  {
   "cell_type": "code",
   "execution_count": 13,
   "metadata": {
    "pycharm": {
     "is_executing": true
    }
   },
   "outputs": [
    {
     "name": "stdout",
     "output_type": "stream",
     "text": [
      "Hello\n"
     ]
    },
    {
     "ename": "TypeError",
     "evalue": "cannot unpack non-iterable AxesSubplot object",
     "output_type": "error",
     "traceback": [
      "\u001B[1;31m---------------------------------------------------------------------------\u001B[0m",
      "\u001B[1;31mTypeError\u001B[0m                                 Traceback (most recent call last)",
      "\u001B[1;32m<ipython-input-13-3fa230331f15>\u001B[0m in \u001B[0;36m<module>\u001B[1;34m\u001B[0m\n\u001B[0;32m     36\u001B[0m \u001B[1;31m# call it\u001B[0m\u001B[1;33m\u001B[0m\u001B[1;33m\u001B[0m\u001B[1;33m\u001B[0m\u001B[0m\n\u001B[0;32m     37\u001B[0m \u001B[1;31m#test_images, test_outputs, gt_pts = net_sample_output()\u001B[0m\u001B[1;33m\u001B[0m\u001B[1;33m\u001B[0m\u001B[1;33m\u001B[0m\u001B[0m\n\u001B[1;32m---> 38\u001B[1;33m \u001B[0mvisualize_output\u001B[0m\u001B[1;33m(\u001B[0m\u001B[0mtest_images\u001B[0m\u001B[1;33m,\u001B[0m \u001B[0mtest_outputs\u001B[0m\u001B[1;33m,\u001B[0m \u001B[0mgt_pts\u001B[0m\u001B[1;33m)\u001B[0m\u001B[1;33m\u001B[0m\u001B[1;33m\u001B[0m\u001B[0m\n\u001B[0m",
      "\u001B[1;32m<ipython-input-13-3fa230331f15>\u001B[0m in \u001B[0;36mvisualize_output\u001B[1;34m(test_images, test_outputs, gt_pts, batch_size)\u001B[0m\n\u001B[0;32m      7\u001B[0m         \u001B[1;31m#print('Hello', test_images[0], test_outputs.size)\u001B[0m\u001B[1;33m\u001B[0m\u001B[1;33m\u001B[0m\u001B[1;33m\u001B[0m\u001B[0m\n\u001B[0;32m      8\u001B[0m         \u001B[0mfig\u001B[0m \u001B[1;33m=\u001B[0m \u001B[0mplt\u001B[0m\u001B[1;33m.\u001B[0m\u001B[0mfigure\u001B[0m\u001B[1;33m(\u001B[0m\u001B[0mfigsize\u001B[0m\u001B[1;33m=\u001B[0m\u001B[1;33m(\u001B[0m\u001B[1;36m20\u001B[0m\u001B[1;33m,\u001B[0m\u001B[1;36m10\u001B[0m\u001B[1;33m)\u001B[0m\u001B[1;33m)\u001B[0m\u001B[1;33m\u001B[0m\u001B[1;33m\u001B[0m\u001B[0m\n\u001B[1;32m----> 9\u001B[1;33m         \u001B[0mfix\u001B[0m\u001B[1;33m,\u001B[0m \u001B[0max\u001B[0m \u001B[1;33m=\u001B[0m \u001B[0mplt\u001B[0m\u001B[1;33m.\u001B[0m\u001B[0msubplot\u001B[0m\u001B[1;33m(\u001B[0m\u001B[1;36m1\u001B[0m\u001B[1;33m,\u001B[0m \u001B[0mbatch_size\u001B[0m\u001B[1;33m,\u001B[0m \u001B[0mi\u001B[0m\u001B[1;33m+\u001B[0m\u001B[1;36m1\u001B[0m\u001B[1;33m)\u001B[0m\u001B[1;33m\u001B[0m\u001B[1;33m\u001B[0m\u001B[0m\n\u001B[0m\u001B[0;32m     10\u001B[0m \u001B[1;33m\u001B[0m\u001B[0m\n\u001B[0;32m     11\u001B[0m         \u001B[1;31m# un-transform the image data\u001B[0m\u001B[1;33m\u001B[0m\u001B[1;33m\u001B[0m\u001B[1;33m\u001B[0m\u001B[0m\n",
      "\u001B[1;31mTypeError\u001B[0m: cannot unpack non-iterable AxesSubplot object"
     ]
    },
    {
     "data": {
      "image/png": "[encoded data removed]",
      "text/plain": [
       "<Figure size 1440x720 with 1 Axes>"
      ]
     },
     "metadata": {
      "needs_background": "light"
     },
     "output_type": "display_data"
    }
   ],
   "source": [
    "\n",
    "# visualize the output\n",
    "# by default this shows a batch of 10 images\n",
    "def visualize_output(test_images, test_outputs, gt_pts=None, batch_size=10):\n",
    "    print('Hello')\n",
    "    for i in range(batch_size):\n",
    "       \n",
    "        #print('Hello', test_images[0], test_outputs.size)\n",
    "        fig = plt.figure(figsize=(20,10))\n",
    "        fix, ax = plt.subplot(1, batch_size, i+1)\n",
    "\n",
    "        # un-transform the image data\n",
    "        image = test_images[i].data   # get the image from it's wrapper\n",
    "        image = image.cpu().numpy()   # convert to numpy array from a Tensor\n",
    "        image = np.transpose(image, (1, 2, 0))   # transpose to go from torch to numpy image\n",
    "\n",
    "        # un-transform the predicted key_pts data\n",
    "        predicted_key_pts = test_outputs[i].data\n",
    "        #predicted_key_pts = predicted_key_pts.cpu().numpy()\n",
    "        # undo normalization of keypoints  \n",
    "        predicted_key_pts = predicted_key_pts*50.0+100\n",
    "\n",
    "        # plot ground truth points for comparison, if they exist\n",
    "        ground_truth_pts = None\n",
    "        if gt_pts is not None:\n",
    "            ground_truth_pts = gt_pts[i]  \n",
    "            #ground_truth_pts = ground_truth_pts.cpu().numpy()\n",
    "            ground_truth_pts = ground_truth_pts*50.0+100\n",
    "\n",
    "        # call show_all_keypoints\n",
    "        #show_all_keypoints(np.squeeze(image), predicted_key_pts, ground_truth_pts)\n",
    "        #plt.show()\n",
    "        #plt.axis('off')\n",
    "\n",
    "    #plt.show()\n",
    "\n",
    "# call it\n",
    "#test_images, test_outputs, gt_pts = net_sample_output()\n",
    "visualize_output(test_images, test_outputs, gt_pts)"
   ]
  },
  {
   "cell_type": "markdown",
   "metadata": {},
   "source": [
    "## Training\n",
    "\n",
    "#### Loss function\n",
    "Training a network to predict keypoints is different than training a network to predict a class; instead of outputting a distribution of classes and using cross entropy loss, you may want to choose a loss function that is suited for regression, which directly compares a predicted value and target value. Read about the various kinds of loss functions (like MSE or L1/SmoothL1 loss) in [this documentation](http://pytorch.org/docs/master/_modules/torch/nn/modules/loss.html).\n",
    "\n",
    "### TODO: Define the loss and optimization\n",
    "\n",
    "Next, you'll define how the model will train by deciding on the loss function and optimizer.\n",
    "\n",
    "---"
   ]
  },
  {
   "cell_type": "code",
   "execution_count": 14,
   "metadata": {
    "pycharm": {
     "is_executing": true
    }
   },
   "outputs": [],
   "source": [
    "## TODO: Define the loss and optimization\n",
    "import torch.optim as optim\n",
    "\n",
    "\n",
    "#criterion = nn.MSELoss()\n",
    "#criterion = nn.CrossEntropyLoss()\n",
    "criterion = nn.SmoothL1Loss()\n",
    "\n",
    "#optimizer = optim.Adam(net.parameters(), lr = 0.001)\n",
    "optimizer = optim.SGD(net.parameters(), lr=0.0001, momentum=0.9)\n"
   ]
  },
  {
   "cell_type": "markdown",
   "metadata": {},
   "source": [
    "## Training and Initial Observation\n",
    "\n",
    "Now, you'll train on your batched training data from `train_loader` for a number of epochs. \n",
    "\n",
    "To quickly observe how your model is training and decide on whether or not you should modify it's structure or hyperparameters, you're encouraged to start off with just one or two epochs at first. As you train, note how your the model's loss behaves over time: does it decrease quickly at first and then slow down? Does it take a while to decrease in the first place? What happens if you change the batch size of your training data or modify your loss function? etc. \n",
    "\n",
    "Use these initial observations to make changes to your model and decide on the best architecture before you train for many epochs and create a final model."
   ]
  },
  {
   "cell_type": "code",
   "execution_count": 15,
   "metadata": {
    "pycharm": {
     "is_executing": true
    }
   },
   "outputs": [],
   "source": [
    "def train_net(n_epochs):\n",
    "\n",
    "    # prepare the net for training\n",
    "    net.to(device)\n",
    "    net.train()\n",
    "\n",
    "    for epoch in range(n_epochs):  # loop over the dataset multiple times\n",
    "        \n",
    "        running_loss = 0.0\n",
    "\n",
    "        # train on batches of data, assumes you already have train_loader\n",
    "        for batch_i, data in enumerate(train_loader):\n",
    "            # get the input images and their corresponding labels\n",
    "            images = data['image']\n",
    "            key_pts = data['keypoints']\n",
    "\n",
    "            # flatten pts\n",
    "            key_pts = key_pts.view(key_pts.size(0), -1)\n",
    "\n",
    "            # convert variables to floats for regression loss\n",
    "            key_pts = key_pts.type(torch.FloatTensor)\n",
    "            images = images.type(torch.FloatTensor)\n",
    "            \n",
    "            images = images.to(device)\n",
    "            key_pts = key_pts.to(device)\n",
    "\n",
    "            # forward pass to get outputs\n",
    "            output_pts = net(images)\n",
    "\n",
    "            # calculate the loss between predicted and target keypoints\n",
    "            loss = criterion(output_pts, key_pts)\n",
    "\n",
    "            # zero the parameter (weight) gradients\n",
    "            optimizer.zero_grad()\n",
    "            \n",
    "            # backward pass to calculate the weight gradients\n",
    "            loss.backward()\n",
    "\n",
    "            # update the weights\n",
    "            optimizer.step()\n",
    "\n",
    "            # print loss statistics\n",
    "            # to convert loss into a scalar and add it to the running_loss, use .item()\n",
    "            running_loss += loss.item()\n",
    "            if batch_i % 10 == 9:    # print every 10 batches\n",
    "                print('Epoch: {}, Batch: {}, Avg. Loss: {}'.format(epoch + 1, batch_i+1, running_loss/1000))\n",
    "                running_loss = 0.0\n",
    "\n",
    "    print('Finished Training')\n"
   ]
  },
  {
   "cell_type": "code",
   "execution_count": 16,
   "metadata": {
    "pycharm": {
     "is_executing": true
    },
    "scrolled": false
   },
   "outputs": [
    {
     "name": "stdout",
     "output_type": "stream",
     "text": [
      "Epoch: 1, Batch: 10, Avg. Loss: 0.0029839146435260773\n",
      "Epoch: 1, Batch: 20, Avg. Loss: 0.002752865359187126\n",
      "Epoch: 1, Batch: 30, Avg. Loss: 0.0026952863931655885\n",
      "Epoch: 1, Batch: 40, Avg. Loss: 0.0029341887682676317\n",
      "Epoch: 1, Batch: 50, Avg. Loss: 0.002889085590839386\n",
      "Epoch: 1, Batch: 60, Avg. Loss: 0.0027123906910419466\n",
      "Epoch: 1, Batch: 70, Avg. Loss: 0.0026373610347509386\n",
      "Epoch: 1, Batch: 80, Avg. Loss: 0.002863921105861664\n",
      "Epoch: 1, Batch: 90, Avg. Loss: 0.0027988215982913973\n",
      "Epoch: 1, Batch: 100, Avg. Loss: 0.0030588536113500594\n",
      "Epoch: 1, Batch: 110, Avg. Loss: 0.0027330510914325714\n",
      "Epoch: 1, Batch: 120, Avg. Loss: 0.002821787342429161\n",
      "Epoch: 1, Batch: 130, Avg. Loss: 0.0027512467503547668\n",
      "Epoch: 1, Batch: 140, Avg. Loss: 0.002588852286338806\n",
      "Epoch: 1, Batch: 150, Avg. Loss: 0.002889641672372818\n",
      "Epoch: 1, Batch: 160, Avg. Loss: 0.002929062470793724\n",
      "Epoch: 1, Batch: 170, Avg. Loss: 0.002853593587875366\n",
      "Epoch: 1, Batch: 180, Avg. Loss: 0.0028474255204200744\n",
      "Epoch: 1, Batch: 190, Avg. Loss: 0.0027157403826713563\n",
      "Epoch: 1, Batch: 200, Avg. Loss: 0.002698949843645096\n",
      "Epoch: 1, Batch: 210, Avg. Loss: 0.002778474807739258\n",
      "Epoch: 1, Batch: 220, Avg. Loss: 0.002813787639141083\n",
      "Epoch: 1, Batch: 230, Avg. Loss: 0.002910491228103638\n",
      "Epoch: 1, Batch: 240, Avg. Loss: 0.0027746765464544297\n",
      "Epoch: 1, Batch: 250, Avg. Loss: 0.002950092926621437\n",
      "Epoch: 1, Batch: 260, Avg. Loss: 0.0027681109607219697\n",
      "Epoch: 1, Batch: 270, Avg. Loss: 0.0030285151749849318\n",
      "Epoch: 1, Batch: 280, Avg. Loss: 0.0029088534861803055\n",
      "Epoch: 1, Batch: 290, Avg. Loss: 0.002802700325846672\n",
      "Epoch: 1, Batch: 300, Avg. Loss: 0.002917093262076378\n",
      "Epoch: 1, Batch: 310, Avg. Loss: 0.002931052103638649\n",
      "Epoch: 1, Batch: 320, Avg. Loss: 0.002859988108277321\n",
      "Epoch: 1, Batch: 330, Avg. Loss: 0.002850846320390701\n",
      "Epoch: 1, Batch: 340, Avg. Loss: 0.0027542657405138014\n",
      "Epoch: 2, Batch: 10, Avg. Loss: 0.0026059665530920027\n",
      "Epoch: 2, Batch: 20, Avg. Loss: 0.002844357505440712\n",
      "Epoch: 2, Batch: 30, Avg. Loss: 0.002652305528521538\n",
      "Epoch: 2, Batch: 40, Avg. Loss: 0.0028658011555671692\n",
      "Epoch: 2, Batch: 50, Avg. Loss: 0.0028331505209207536\n",
      "Epoch: 2, Batch: 60, Avg. Loss: 0.002693971157073975\n",
      "Epoch: 2, Batch: 70, Avg. Loss: 0.0028762951344251633\n",
      "Epoch: 2, Batch: 80, Avg. Loss: 0.0028251846581697462\n",
      "Epoch: 2, Batch: 90, Avg. Loss: 0.002812532976269722\n",
      "Epoch: 2, Batch: 100, Avg. Loss: 0.0029424235224723818\n",
      "Epoch: 2, Batch: 110, Avg. Loss: 0.0028511314690113066\n",
      "Epoch: 2, Batch: 120, Avg. Loss: 0.0027465294301509857\n",
      "Epoch: 2, Batch: 130, Avg. Loss: 0.0029201043993234634\n",
      "Epoch: 2, Batch: 140, Avg. Loss: 0.0028687204867601395\n",
      "Epoch: 2, Batch: 150, Avg. Loss: 0.002919995129108429\n",
      "Epoch: 2, Batch: 160, Avg. Loss: 0.002793163239955902\n",
      "Epoch: 2, Batch: 170, Avg. Loss: 0.002645548805594444\n",
      "Epoch: 2, Batch: 180, Avg. Loss: 0.0032535644471645355\n",
      "Epoch: 2, Batch: 190, Avg. Loss: 0.002911053329706192\n",
      "Epoch: 2, Batch: 200, Avg. Loss: 0.002920953646302223\n",
      "Epoch: 2, Batch: 210, Avg. Loss: 0.0030164174735546113\n",
      "Epoch: 2, Batch: 220, Avg. Loss: 0.0027981335818767546\n",
      "Epoch: 2, Batch: 230, Avg. Loss: 0.0029102327674627305\n",
      "Epoch: 2, Batch: 240, Avg. Loss: 0.0027612841874361037\n",
      "Epoch: 2, Batch: 250, Avg. Loss: 0.0028627432733774184\n",
      "Epoch: 2, Batch: 260, Avg. Loss: 0.002669058606028557\n",
      "Epoch: 2, Batch: 270, Avg. Loss: 0.002701928496360779\n",
      "Epoch: 2, Batch: 280, Avg. Loss: 0.0027217667549848555\n",
      "Epoch: 2, Batch: 290, Avg. Loss: 0.0028085725456476213\n",
      "Epoch: 2, Batch: 300, Avg. Loss: 0.002798677444458008\n",
      "Epoch: 2, Batch: 310, Avg. Loss: 0.002622511088848114\n",
      "Epoch: 2, Batch: 320, Avg. Loss: 0.002756056636571884\n",
      "Epoch: 2, Batch: 330, Avg. Loss: 0.0031677111089229585\n",
      "Epoch: 2, Batch: 340, Avg. Loss: 0.002832034707069397\n",
      "Epoch: 3, Batch: 10, Avg. Loss: 0.0027524846494197844\n",
      "Epoch: 3, Batch: 20, Avg. Loss: 0.0027547944188117983\n",
      "Epoch: 3, Batch: 30, Avg. Loss: 0.002944748058915138\n",
      "Epoch: 3, Batch: 40, Avg. Loss: 0.0030887528657913207\n",
      "Epoch: 3, Batch: 50, Avg. Loss: 0.0028377521634101867\n",
      "Epoch: 3, Batch: 60, Avg. Loss: 0.0027072393149137498\n",
      "Epoch: 3, Batch: 70, Avg. Loss: 0.0026578868478536605\n",
      "Epoch: 3, Batch: 80, Avg. Loss: 0.002835323542356491\n",
      "Epoch: 3, Batch: 90, Avg. Loss: 0.002613608404994011\n",
      "Epoch: 3, Batch: 100, Avg. Loss: 0.002977837488055229\n",
      "Epoch: 3, Batch: 110, Avg. Loss: 0.0029978506118059156\n",
      "Epoch: 3, Batch: 120, Avg. Loss: 0.0029506526589393616\n",
      "Epoch: 3, Batch: 130, Avg. Loss: 0.0027408977299928665\n",
      "Epoch: 3, Batch: 140, Avg. Loss: 0.0029504291862249375\n",
      "Epoch: 3, Batch: 150, Avg. Loss: 0.0027778883874416353\n",
      "Epoch: 3, Batch: 160, Avg. Loss: 0.002929087847471237\n",
      "Epoch: 3, Batch: 170, Avg. Loss: 0.002822607129812241\n",
      "Epoch: 3, Batch: 180, Avg. Loss: 0.002827054113149643\n",
      "Epoch: 3, Batch: 190, Avg. Loss: 0.00295326791703701\n",
      "Epoch: 3, Batch: 200, Avg. Loss: 0.0029473124742507933\n",
      "Epoch: 3, Batch: 210, Avg. Loss: 0.0027815124690532683\n",
      "Epoch: 3, Batch: 220, Avg. Loss: 0.002922556519508362\n",
      "Epoch: 3, Batch: 230, Avg. Loss: 0.002737816572189331\n",
      "Epoch: 3, Batch: 240, Avg. Loss: 0.0027254433780908587\n",
      "Epoch: 3, Batch: 250, Avg. Loss: 0.002565791442990303\n",
      "Epoch: 3, Batch: 260, Avg. Loss: 0.002807706281542778\n",
      "Epoch: 3, Batch: 270, Avg. Loss: 0.0027748750746250154\n",
      "Epoch: 3, Batch: 280, Avg. Loss: 0.002660019189119339\n",
      "Epoch: 3, Batch: 290, Avg. Loss: 0.0029536888897418977\n",
      "Epoch: 3, Batch: 300, Avg. Loss: 0.00293130125105381\n",
      "Epoch: 3, Batch: 310, Avg. Loss: 0.002624089613556862\n",
      "Epoch: 3, Batch: 320, Avg. Loss: 0.002875830203294754\n",
      "Epoch: 3, Batch: 330, Avg. Loss: 0.002676102265715599\n",
      "Epoch: 3, Batch: 340, Avg. Loss: 0.0027649309933185577\n",
      "Epoch: 4, Batch: 10, Avg. Loss: 0.002835554137825966\n",
      "Epoch: 4, Batch: 20, Avg. Loss: 0.0027492526918649674\n",
      "Epoch: 4, Batch: 30, Avg. Loss: 0.0027190629839897156\n",
      "Epoch: 4, Batch: 40, Avg. Loss: 0.002852790266275406\n",
      "Epoch: 4, Batch: 50, Avg. Loss: 0.0029146343767642974\n",
      "Epoch: 4, Batch: 60, Avg. Loss: 0.0027193132787942885\n",
      "Epoch: 4, Batch: 70, Avg. Loss: 0.003051301822066307\n",
      "Epoch: 4, Batch: 80, Avg. Loss: 0.002824379771947861\n",
      "Epoch: 4, Batch: 90, Avg. Loss: 0.0028878750801086426\n",
      "Epoch: 4, Batch: 100, Avg. Loss: 0.0028797241896390915\n",
      "Epoch: 4, Batch: 110, Avg. Loss: 0.0027301487773656844\n",
      "Epoch: 4, Batch: 120, Avg. Loss: 0.0028466340601444244\n",
      "Epoch: 4, Batch: 130, Avg. Loss: 0.0024650779217481613\n",
      "Epoch: 4, Batch: 140, Avg. Loss: 0.003004022881388664\n",
      "Epoch: 4, Batch: 150, Avg. Loss: 0.0027870710492134093\n",
      "Epoch: 4, Batch: 160, Avg. Loss: 0.0028625409752130507\n",
      "Epoch: 4, Batch: 170, Avg. Loss: 0.002656994193792343\n",
      "Epoch: 4, Batch: 180, Avg. Loss: 0.0027559394389390945\n",
      "Epoch: 4, Batch: 190, Avg. Loss: 0.0025884265303611756\n",
      "Epoch: 4, Batch: 200, Avg. Loss: 0.0026821838170289995\n",
      "Epoch: 4, Batch: 210, Avg. Loss: 0.0028717536628246306\n",
      "Epoch: 4, Batch: 220, Avg. Loss: 0.0028342476934194566\n",
      "Epoch: 4, Batch: 230, Avg. Loss: 0.0027850562781095503\n",
      "Epoch: 4, Batch: 240, Avg. Loss: 0.0028540829867124556\n",
      "Epoch: 4, Batch: 250, Avg. Loss: 0.00308596470952034\n",
      "Epoch: 4, Batch: 260, Avg. Loss: 0.002781385496258736\n",
      "Epoch: 4, Batch: 270, Avg. Loss: 0.0027673271149396897\n",
      "Epoch: 4, Batch: 280, Avg. Loss: 0.0026897271275520326\n",
      "Epoch: 4, Batch: 290, Avg. Loss: 0.0026864966601133347\n",
      "Epoch: 4, Batch: 300, Avg. Loss: 0.003022905558347702\n",
      "Epoch: 4, Batch: 310, Avg. Loss: 0.002696753337979317\n",
      "Epoch: 4, Batch: 320, Avg. Loss: 0.002793646365404129\n",
      "Epoch: 4, Batch: 330, Avg. Loss: 0.002986013799905777\n",
      "Epoch: 4, Batch: 340, Avg. Loss: 0.0030942875742912294\n",
      "Epoch: 5, Batch: 10, Avg. Loss: 0.002801979720592499\n",
      "Epoch: 5, Batch: 20, Avg. Loss: 0.0026208533048629763\n",
      "Epoch: 5, Batch: 30, Avg. Loss: 0.0025778229236602785\n",
      "Epoch: 5, Batch: 40, Avg. Loss: 0.002753559574484825\n",
      "Epoch: 5, Batch: 50, Avg. Loss: 0.002886561557650566\n",
      "Epoch: 5, Batch: 60, Avg. Loss: 0.0029498656690120696\n",
      "Epoch: 5, Batch: 70, Avg. Loss: 0.002668472766876221\n",
      "Epoch: 5, Batch: 80, Avg. Loss: 0.0029210430979728697\n",
      "Epoch: 5, Batch: 90, Avg. Loss: 0.002840441823005676\n",
      "Epoch: 5, Batch: 100, Avg. Loss: 0.0028541240096092223\n",
      "Epoch: 5, Batch: 110, Avg. Loss: 0.002634910225868225\n",
      "Epoch: 5, Batch: 120, Avg. Loss: 0.0025534698218107224\n",
      "Epoch: 5, Batch: 130, Avg. Loss: 0.0028236793875694275\n",
      "Epoch: 5, Batch: 140, Avg. Loss: 0.002829557165503502\n",
      "Epoch: 5, Batch: 150, Avg. Loss: 0.002789228305220604\n",
      "Epoch: 5, Batch: 160, Avg. Loss: 0.002578706353902817\n"
     ]
    },
    {
     "name": "stdout",
     "output_type": "stream",
     "text": [
      "Epoch: 5, Batch: 170, Avg. Loss: 0.0026601018160581588\n",
      "Epoch: 5, Batch: 180, Avg. Loss: 0.002766930490732193\n",
      "Epoch: 5, Batch: 190, Avg. Loss: 0.0027201767563819887\n",
      "Epoch: 5, Batch: 200, Avg. Loss: 0.0028510801792144777\n",
      "Epoch: 5, Batch: 210, Avg. Loss: 0.002949836403131485\n",
      "Epoch: 5, Batch: 220, Avg. Loss: 0.002837489873170853\n",
      "Epoch: 5, Batch: 230, Avg. Loss: 0.0029885365217924118\n",
      "Epoch: 5, Batch: 240, Avg. Loss: 0.0025783309936523438\n",
      "Epoch: 5, Batch: 250, Avg. Loss: 0.002758270487189293\n",
      "Epoch: 5, Batch: 260, Avg. Loss: 0.002941071689128876\n",
      "Epoch: 5, Batch: 270, Avg. Loss: 0.002752123177051544\n",
      "Epoch: 5, Batch: 280, Avg. Loss: 0.002791911855340004\n",
      "Epoch: 5, Batch: 290, Avg. Loss: 0.0026847952753305433\n",
      "Epoch: 5, Batch: 300, Avg. Loss: 0.0027477498650550843\n",
      "Epoch: 5, Batch: 310, Avg. Loss: 0.0030048132836818695\n",
      "Epoch: 5, Batch: 320, Avg. Loss: 0.0027749674916267395\n",
      "Epoch: 5, Batch: 330, Avg. Loss: 0.002648261457681656\n",
      "Epoch: 5, Batch: 340, Avg. Loss: 0.0026824684888124466\n",
      "Epoch: 6, Batch: 10, Avg. Loss: 0.002820776104927063\n",
      "Epoch: 6, Batch: 20, Avg. Loss: 0.002804330140352249\n",
      "Epoch: 6, Batch: 30, Avg. Loss: 0.003035156711935997\n",
      "Epoch: 6, Batch: 40, Avg. Loss: 0.002795751079916954\n",
      "Epoch: 6, Batch: 50, Avg. Loss: 0.002638189896941185\n",
      "Epoch: 6, Batch: 60, Avg. Loss: 0.002864645913243294\n",
      "Epoch: 6, Batch: 70, Avg. Loss: 0.0029160480499267577\n",
      "Epoch: 6, Batch: 80, Avg. Loss: 0.0026690695136785507\n",
      "Epoch: 6, Batch: 90, Avg. Loss: 0.002729171574115753\n",
      "Epoch: 6, Batch: 100, Avg. Loss: 0.0029010479152202606\n",
      "Epoch: 6, Batch: 110, Avg. Loss: 0.0027341987639665603\n",
      "Epoch: 6, Batch: 120, Avg. Loss: 0.0027012413144111634\n",
      "Epoch: 6, Batch: 130, Avg. Loss: 0.002701236814260483\n",
      "Epoch: 6, Batch: 140, Avg. Loss: 0.003125079557299614\n",
      "Epoch: 6, Batch: 150, Avg. Loss: 0.0027059994339942934\n",
      "Epoch: 6, Batch: 160, Avg. Loss: 0.0027271546721458436\n",
      "Epoch: 6, Batch: 170, Avg. Loss: 0.002820996806025505\n",
      "Epoch: 6, Batch: 180, Avg. Loss: 0.0028692474216222763\n",
      "Epoch: 6, Batch: 190, Avg. Loss: 0.0027721167504787445\n",
      "Epoch: 6, Batch: 200, Avg. Loss: 0.0025469984263181687\n",
      "Epoch: 6, Batch: 210, Avg. Loss: 0.00260989448428154\n",
      "Epoch: 6, Batch: 220, Avg. Loss: 0.0025779739022254943\n",
      "Epoch: 6, Batch: 230, Avg. Loss: 0.002824889376759529\n",
      "Epoch: 6, Batch: 240, Avg. Loss: 0.0027952095717191697\n",
      "Epoch: 6, Batch: 250, Avg. Loss: 0.002856318801641464\n",
      "Epoch: 6, Batch: 260, Avg. Loss: 0.002734298914670944\n",
      "Epoch: 6, Batch: 270, Avg. Loss: 0.0030273518711328505\n",
      "Epoch: 6, Batch: 280, Avg. Loss: 0.002609653741121292\n",
      "Epoch: 6, Batch: 290, Avg. Loss: 0.0027152457386255264\n",
      "Epoch: 6, Batch: 300, Avg. Loss: 0.002741394966840744\n",
      "Epoch: 6, Batch: 310, Avg. Loss: 0.002828040450811386\n",
      "Epoch: 6, Batch: 320, Avg. Loss: 0.002893016517162323\n",
      "Epoch: 6, Batch: 330, Avg. Loss: 0.0027195232808589933\n",
      "Epoch: 6, Batch: 340, Avg. Loss: 0.0027992011457681656\n",
      "Epoch: 7, Batch: 10, Avg. Loss: 0.002932497173547745\n",
      "Epoch: 7, Batch: 20, Avg. Loss: 0.002706274226307869\n",
      "Epoch: 7, Batch: 30, Avg. Loss: 0.002592950329184532\n",
      "Epoch: 7, Batch: 40, Avg. Loss: 0.0027635744661092757\n",
      "Epoch: 7, Batch: 50, Avg. Loss: 0.0027110730558633804\n",
      "Epoch: 7, Batch: 60, Avg. Loss: 0.0029459665417671203\n",
      "Epoch: 7, Batch: 70, Avg. Loss: 0.0028485268652439118\n",
      "Epoch: 7, Batch: 80, Avg. Loss: 0.0028294741213321685\n",
      "Epoch: 7, Batch: 90, Avg. Loss: 0.002826161742210388\n",
      "Epoch: 7, Batch: 100, Avg. Loss: 0.002698850005865097\n",
      "Epoch: 7, Batch: 110, Avg. Loss: 0.002771369069814682\n",
      "Epoch: 7, Batch: 120, Avg. Loss: 0.00275517138838768\n",
      "Epoch: 7, Batch: 130, Avg. Loss: 0.002379778906702995\n",
      "Epoch: 7, Batch: 140, Avg. Loss: 0.002824284613132477\n",
      "Epoch: 7, Batch: 150, Avg. Loss: 0.002608321398496628\n",
      "Epoch: 7, Batch: 160, Avg. Loss: 0.00279266457259655\n",
      "Epoch: 7, Batch: 170, Avg. Loss: 0.0027263946533203124\n",
      "Epoch: 7, Batch: 180, Avg. Loss: 0.0028827696591615676\n",
      "Epoch: 7, Batch: 190, Avg. Loss: 0.002686237409710884\n",
      "Epoch: 7, Batch: 200, Avg. Loss: 0.0028937333822250367\n",
      "Epoch: 7, Batch: 210, Avg. Loss: 0.002711157456040382\n",
      "Epoch: 7, Batch: 220, Avg. Loss: 0.00257863575220108\n",
      "Epoch: 7, Batch: 230, Avg. Loss: 0.0026283890008926393\n",
      "Epoch: 7, Batch: 240, Avg. Loss: 0.0027037861496210097\n",
      "Epoch: 7, Batch: 250, Avg. Loss: 0.002871447131037712\n",
      "Epoch: 7, Batch: 260, Avg. Loss: 0.002574277386069298\n",
      "Epoch: 7, Batch: 270, Avg. Loss: 0.002895236134529114\n",
      "Epoch: 7, Batch: 280, Avg. Loss: 0.0029789047986268995\n",
      "Epoch: 7, Batch: 290, Avg. Loss: 0.0026952080726623537\n",
      "Epoch: 7, Batch: 300, Avg. Loss: 0.0027026520669460297\n",
      "Epoch: 7, Batch: 310, Avg. Loss: 0.002674447551369667\n",
      "Epoch: 7, Batch: 320, Avg. Loss: 0.0031807971596717836\n",
      "Epoch: 7, Batch: 330, Avg. Loss: 0.0026380475461483003\n",
      "Epoch: 7, Batch: 340, Avg. Loss: 0.002791127696633339\n",
      "Epoch: 8, Batch: 10, Avg. Loss: 0.0028316238969564437\n",
      "Epoch: 8, Batch: 20, Avg. Loss: 0.0028648519814014435\n",
      "Epoch: 8, Batch: 30, Avg. Loss: 0.0026878687739372254\n",
      "Epoch: 8, Batch: 40, Avg. Loss: 0.0027091965675354003\n",
      "Epoch: 8, Batch: 50, Avg. Loss: 0.002605276197195053\n",
      "Epoch: 8, Batch: 60, Avg. Loss: 0.002724449172616005\n",
      "Epoch: 8, Batch: 70, Avg. Loss: 0.0027555450648069383\n",
      "Epoch: 8, Batch: 80, Avg. Loss: 0.0028939688801765443\n",
      "Epoch: 8, Batch: 90, Avg. Loss: 0.0026572794914245606\n",
      "Epoch: 8, Batch: 100, Avg. Loss: 0.0026410538107156756\n",
      "Epoch: 8, Batch: 110, Avg. Loss: 0.0028305929601192474\n",
      "Epoch: 8, Batch: 120, Avg. Loss: 0.002768018037080765\n",
      "Epoch: 8, Batch: 130, Avg. Loss: 0.0027291231751441956\n",
      "Epoch: 8, Batch: 140, Avg. Loss: 0.002509929284453392\n",
      "Epoch: 8, Batch: 150, Avg. Loss: 0.002795797795057297\n",
      "Epoch: 8, Batch: 160, Avg. Loss: 0.0028214813321828843\n",
      "Epoch: 8, Batch: 170, Avg. Loss: 0.003007132947444916\n",
      "Epoch: 8, Batch: 180, Avg. Loss: 0.003034421265125275\n",
      "Epoch: 8, Batch: 190, Avg. Loss: 0.0029144826531410217\n",
      "Epoch: 8, Batch: 200, Avg. Loss: 0.0028544787168502807\n",
      "Epoch: 8, Batch: 210, Avg. Loss: 0.0028078210353851317\n",
      "Epoch: 8, Batch: 220, Avg. Loss: 0.002815629228949547\n",
      "Epoch: 8, Batch: 230, Avg. Loss: 0.002765201911330223\n",
      "Epoch: 8, Batch: 240, Avg. Loss: 0.0029162572622299194\n",
      "Epoch: 8, Batch: 250, Avg. Loss: 0.0026476639062166215\n",
      "Epoch: 8, Batch: 260, Avg. Loss: 0.0025754846632480622\n",
      "Epoch: 8, Batch: 270, Avg. Loss: 0.0027493062913417814\n",
      "Epoch: 8, Batch: 280, Avg. Loss: 0.0030892235785722733\n",
      "Epoch: 8, Batch: 290, Avg. Loss: 0.0028062858283519746\n",
      "Epoch: 8, Batch: 300, Avg. Loss: 0.0025903907269239426\n",
      "Epoch: 8, Batch: 310, Avg. Loss: 0.002535922944545746\n",
      "Epoch: 8, Batch: 320, Avg. Loss: 0.0028411600142717363\n",
      "Epoch: 8, Batch: 330, Avg. Loss: 0.0028151144087314606\n",
      "Epoch: 8, Batch: 340, Avg. Loss: 0.0028441338688135146\n",
      "Epoch: 9, Batch: 10, Avg. Loss: 0.003108034923672676\n",
      "Epoch: 9, Batch: 20, Avg. Loss: 0.0026254488527774813\n",
      "Epoch: 9, Batch: 30, Avg. Loss: 0.002797993391752243\n",
      "Epoch: 9, Batch: 40, Avg. Loss: 0.0028554823994636535\n",
      "Epoch: 9, Batch: 50, Avg. Loss: 0.0027460536509752273\n",
      "Epoch: 9, Batch: 60, Avg. Loss: 0.0027598450779914856\n",
      "Epoch: 9, Batch: 70, Avg. Loss: 0.002854331165552139\n",
      "Epoch: 9, Batch: 80, Avg. Loss: 0.002818059056997299\n",
      "Epoch: 9, Batch: 90, Avg. Loss: 0.002929278329014778\n",
      "Epoch: 9, Batch: 100, Avg. Loss: 0.002659255385398865\n",
      "Epoch: 9, Batch: 110, Avg. Loss: 0.0028868489265441895\n",
      "Epoch: 9, Batch: 120, Avg. Loss: 0.002838234171271324\n",
      "Epoch: 9, Batch: 130, Avg. Loss: 0.0027421499639749525\n",
      "Epoch: 9, Batch: 140, Avg. Loss: 0.0028505147844552995\n",
      "Epoch: 9, Batch: 150, Avg. Loss: 0.0025698337405920028\n",
      "Epoch: 9, Batch: 160, Avg. Loss: 0.0028819292932748793\n",
      "Epoch: 9, Batch: 170, Avg. Loss: 0.002605002000927925\n",
      "Epoch: 9, Batch: 180, Avg. Loss: 0.0026160014867782594\n",
      "Epoch: 9, Batch: 190, Avg. Loss: 0.002741233944892883\n",
      "Epoch: 9, Batch: 200, Avg. Loss: 0.002882988601922989\n",
      "Epoch: 9, Batch: 210, Avg. Loss: 0.002435639843344688\n",
      "Epoch: 9, Batch: 220, Avg. Loss: 0.002602656990289688\n",
      "Epoch: 9, Batch: 230, Avg. Loss: 0.0027798758894205093\n",
      "Epoch: 9, Batch: 240, Avg. Loss: 0.002688306748867035\n",
      "Epoch: 9, Batch: 250, Avg. Loss: 0.002668335884809494\n",
      "Epoch: 9, Batch: 260, Avg. Loss: 0.00281341253221035\n",
      "Epoch: 9, Batch: 270, Avg. Loss: 0.0028441723734140396\n",
      "Epoch: 9, Batch: 280, Avg. Loss: 0.002582759067416191\n",
      "Epoch: 9, Batch: 290, Avg. Loss: 0.00265804386138916\n",
      "Epoch: 9, Batch: 300, Avg. Loss: 0.0027477941662073136\n",
      "Epoch: 9, Batch: 310, Avg. Loss: 0.0024328031092882155\n",
      "Epoch: 9, Batch: 320, Avg. Loss: 0.002749873086810112\n"
     ]
    },
    {
     "name": "stdout",
     "output_type": "stream",
     "text": [
      "Epoch: 9, Batch: 330, Avg. Loss: 0.002601290062069893\n",
      "Epoch: 9, Batch: 340, Avg. Loss: 0.0028245881497859955\n",
      "Epoch: 10, Batch: 10, Avg. Loss: 0.0029781614542007447\n",
      "Epoch: 10, Batch: 20, Avg. Loss: 0.0026022410988807677\n",
      "Epoch: 10, Batch: 30, Avg. Loss: 0.0025816629827022553\n",
      "Epoch: 10, Batch: 40, Avg. Loss: 0.0030245130062103273\n",
      "Epoch: 10, Batch: 50, Avg. Loss: 0.0026392891705036164\n",
      "Epoch: 10, Batch: 60, Avg. Loss: 0.0026852044612169267\n",
      "Epoch: 10, Batch: 70, Avg. Loss: 0.0027490732967853544\n",
      "Epoch: 10, Batch: 80, Avg. Loss: 0.002580427572131157\n",
      "Epoch: 10, Batch: 90, Avg. Loss: 0.0027024680227041246\n",
      "Epoch: 10, Batch: 100, Avg. Loss: 0.002633990064263344\n",
      "Epoch: 10, Batch: 110, Avg. Loss: 0.0027838054895401\n",
      "Epoch: 10, Batch: 120, Avg. Loss: 0.0029656068086624143\n",
      "Epoch: 10, Batch: 130, Avg. Loss: 0.00287252539396286\n",
      "Epoch: 10, Batch: 140, Avg. Loss: 0.0027615206092596054\n",
      "Epoch: 10, Batch: 150, Avg. Loss: 0.002348575934767723\n",
      "Epoch: 10, Batch: 160, Avg. Loss: 0.0028249028474092485\n",
      "Epoch: 10, Batch: 170, Avg. Loss: 0.0031034276485443113\n",
      "Epoch: 10, Batch: 180, Avg. Loss: 0.002730282440781593\n",
      "Epoch: 10, Batch: 190, Avg. Loss: 0.0028195295929908755\n",
      "Epoch: 10, Batch: 200, Avg. Loss: 0.0029050496518611907\n",
      "Epoch: 10, Batch: 210, Avg. Loss: 0.0027355697304010393\n",
      "Epoch: 10, Batch: 220, Avg. Loss: 0.0026822733283042906\n",
      "Epoch: 10, Batch: 230, Avg. Loss: 0.0027724539041519163\n",
      "Epoch: 10, Batch: 240, Avg. Loss: 0.0027754285633563996\n",
      "Epoch: 10, Batch: 250, Avg. Loss: 0.0025535388737916945\n",
      "Epoch: 10, Batch: 260, Avg. Loss: 0.0029008875489234926\n",
      "Epoch: 10, Batch: 270, Avg. Loss: 0.0028509093821048738\n",
      "Epoch: 10, Batch: 280, Avg. Loss: 0.0026740204095840455\n",
      "Epoch: 10, Batch: 290, Avg. Loss: 0.0026102826446294785\n",
      "Epoch: 10, Batch: 300, Avg. Loss: 0.0029330198615789413\n",
      "Epoch: 10, Batch: 310, Avg. Loss: 0.002556460499763489\n",
      "Epoch: 10, Batch: 320, Avg. Loss: 0.0027145466059446334\n",
      "Epoch: 10, Batch: 330, Avg. Loss: 0.0027899953573942184\n",
      "Epoch: 10, Batch: 340, Avg. Loss: 0.002736111655831337\n",
      "Finished Training\n"
     ]
    }
   ],
   "source": [
    "# train your network\n",
    "n_epochs = 10 # start small, and increase when you've decided on your model structure and hyperparams\n",
    "\n",
    "train_net(n_epochs)"
   ]
  },
  {
   "cell_type": "markdown",
   "metadata": {},
   "source": [
    "## Test data\n",
    "\n",
    "See how your model performs on previously unseen, test data. We've already loaded and transformed this data, similar to the training data. Next, run your trained model on these images to see what kind of keypoints are produced. You should be able to see if your model is fitting each new face it sees, if the points are distributed randomly, or if the points have actually overfitted the training data and do not generalize."
   ]
  },
  {
   "cell_type": "code",
   "execution_count": 17,
   "metadata": {
    "pycharm": {
     "is_executing": true
    }
   },
   "outputs": [
    {
     "name": "stdout",
     "output_type": "stream",
     "text": [
      "torch.Size([10, 1, 224, 224])\n",
      "torch.Size([10, 68, 2])\n",
      "torch.Size([10, 68, 2])\n"
     ]
    }
   ],
   "source": [
    "# get a sample of test data again\n",
    "test_images, test_outputs, gt_pts = net_sample_output()\n",
    "\n",
    "print(test_images.data.size())\n",
    "print(test_outputs.data.size())\n",
    "print(gt_pts.size())"
   ]
  },
  {
   "cell_type": "code",
   "execution_count": 18,
   "metadata": {
    "pycharm": {
     "is_executing": true
    }
   },
   "outputs": [
    {
     "name": "stdout",
     "output_type": "stream",
     "text": [
      "Hello\n"
     ]
    },
    {
     "ename": "TypeError",
     "evalue": "cannot unpack non-iterable AxesSubplot object",
     "output_type": "error",
     "traceback": [
      "\u001B[1;31m---------------------------------------------------------------------------\u001B[0m",
      "\u001B[1;31mTypeError\u001B[0m                                 Traceback (most recent call last)",
      "\u001B[1;32m<ipython-input-18-de289764f6ff>\u001B[0m in \u001B[0;36m<module>\u001B[1;34m\u001B[0m\n\u001B[0;32m      2\u001B[0m \u001B[1;31m# you can use the same function as before, by un-commenting the line below:\u001B[0m\u001B[1;33m\u001B[0m\u001B[1;33m\u001B[0m\u001B[1;33m\u001B[0m\u001B[0m\n\u001B[0;32m      3\u001B[0m \u001B[1;33m\u001B[0m\u001B[0m\n\u001B[1;32m----> 4\u001B[1;33m \u001B[0mvisualize_output\u001B[0m\u001B[1;33m(\u001B[0m\u001B[0mtest_images\u001B[0m\u001B[1;33m,\u001B[0m \u001B[0mtest_outputs\u001B[0m\u001B[1;33m,\u001B[0m \u001B[0mgt_pts\u001B[0m\u001B[1;33m)\u001B[0m\u001B[1;33m\u001B[0m\u001B[1;33m\u001B[0m\u001B[0m\n\u001B[0m",
      "\u001B[1;32m<ipython-input-13-3fa230331f15>\u001B[0m in \u001B[0;36mvisualize_output\u001B[1;34m(test_images, test_outputs, gt_pts, batch_size)\u001B[0m\n\u001B[0;32m      7\u001B[0m         \u001B[1;31m#print('Hello', test_images[0], test_outputs.size)\u001B[0m\u001B[1;33m\u001B[0m\u001B[1;33m\u001B[0m\u001B[1;33m\u001B[0m\u001B[0m\n\u001B[0;32m      8\u001B[0m         \u001B[0mfig\u001B[0m \u001B[1;33m=\u001B[0m \u001B[0mplt\u001B[0m\u001B[1;33m.\u001B[0m\u001B[0mfigure\u001B[0m\u001B[1;33m(\u001B[0m\u001B[0mfigsize\u001B[0m\u001B[1;33m=\u001B[0m\u001B[1;33m(\u001B[0m\u001B[1;36m20\u001B[0m\u001B[1;33m,\u001B[0m\u001B[1;36m10\u001B[0m\u001B[1;33m)\u001B[0m\u001B[1;33m)\u001B[0m\u001B[1;33m\u001B[0m\u001B[1;33m\u001B[0m\u001B[0m\n\u001B[1;32m----> 9\u001B[1;33m         \u001B[0mfix\u001B[0m\u001B[1;33m,\u001B[0m \u001B[0max\u001B[0m \u001B[1;33m=\u001B[0m \u001B[0mplt\u001B[0m\u001B[1;33m.\u001B[0m\u001B[0msubplot\u001B[0m\u001B[1;33m(\u001B[0m\u001B[1;36m1\u001B[0m\u001B[1;33m,\u001B[0m \u001B[0mbatch_size\u001B[0m\u001B[1;33m,\u001B[0m \u001B[0mi\u001B[0m\u001B[1;33m+\u001B[0m\u001B[1;36m1\u001B[0m\u001B[1;33m)\u001B[0m\u001B[1;33m\u001B[0m\u001B[1;33m\u001B[0m\u001B[0m\n\u001B[0m\u001B[0;32m     10\u001B[0m \u001B[1;33m\u001B[0m\u001B[0m\n\u001B[0;32m     11\u001B[0m         \u001B[1;31m# un-transform the image data\u001B[0m\u001B[1;33m\u001B[0m\u001B[1;33m\u001B[0m\u001B[1;33m\u001B[0m\u001B[0m\n",
      "\u001B[1;31mTypeError\u001B[0m: cannot unpack non-iterable AxesSubplot object"
     ]
    },
    {
     "data": {
      "image/png": "[encoded data removed]",
      "text/plain": [
       "<Figure size 1440x720 with 1 Axes>"
      ]
     },
     "metadata": {
      "needs_background": "light"
     },
     "output_type": "display_data"
    }
   ],
   "source": [
    "## TODO: visualize your test output\n",
    "# you can use the same function as before, by un-commenting the line below:\n",
    "\n",
    "visualize_output(test_images, test_outputs, gt_pts)\n"
   ]
  },
  {
   "cell_type": "markdown",
   "metadata": {},
   "source": [
    "Once you've found a good model (or two), save your model so you can load it and use it later!"
   ]
  },
  {
   "cell_type": "code",
   "execution_count": 19,
   "metadata": {
    "pycharm": {
     "is_executing": true
    }
   },
   "outputs": [],
   "source": [
    "## TODO: change the name to something uniqe for each new model\n",
    "model_dir = prefix1+'saved_models/'\n",
    "model_name = 'keypoints_model_1.pt'\n",
    "\n",
    "# after training, save your model parameters in the dir 'saved_models'\n",
    "torch.save(net.state_dict(), model_dir+model_name)"
   ]
  },
  {
   "cell_type": "markdown",
   "metadata": {},
   "source": [
    "After you've trained a well-performing model, answer the following questions so that we have some insight into your training and architecture selection process. Answering all questions is required to pass this project."
   ]
  },
  {
   "cell_type": "markdown",
   "metadata": {},
   "source": [
    "### Question 1: What optimization and loss functions did you choose and why?\n"
   ]
  },
  {
   "cell_type": "markdown",
   "metadata": {},
   "source": [
    "**Answer**: SGD or Stochastic Gradient descent optimization was used with 0.0001 learning rate and 0.9 momentum. It was chosen due to its efficiency and it convergest faster on large datasets. \n",
    "\n",
    "Mean Squared error loss function produced high losses. Using `SmoothL1Loss`helped reduce the losses."
   ]
  },
  {
   "cell_type": "markdown",
   "metadata": {},
   "source": [
    "### Question 2: What kind of network architecture did you start with and how did it change as you tried different architectures? Did you decide to add more convolutional layers or any layers to avoid overfitting the data?"
   ]
  },
  {
   "cell_type": "markdown",
   "metadata": {},
   "source": [
    "**Answer**: 5 convolutional layers were used.  3 Fully connected layers at the end with interleaving dropout layers were used to avoid overfitting."
   ]
  },
  {
   "cell_type": "markdown",
   "metadata": {},
   "source": [
    "### Question 3: How did you decide on the number of epochs and batch_size to train your model?"
   ]
  },
  {
   "cell_type": "markdown",
   "metadata": {},
   "source": [
    "**Answer**:After mutiple runs I found 10 epochs with batch_size 10 produces the best results."
   ]
  },
  {
   "cell_type": "markdown",
   "metadata": {},
   "source": [
    "## Feature Visualization\n",
    "\n",
    "Sometimes, neural networks are thought of as a black box, given some input, they learn to produce some output. CNN's are actually learning to recognize a variety of spatial patterns and you can visualize what each convolutional layer has been trained to recognize by looking at the weights that make up each convolutional kernel and applying those one at a time to a sample image. This technique is called feature visualization and it's useful for understanding the inner workings of a CNN."
   ]
  },
  {
   "cell_type": "markdown",
   "metadata": {},
   "source": [
    "In the cell below, you can see how to extract a single filter (by index) from your first convolutional layer. The filter should appear as a grayscale grid."
   ]
  },
  {
   "cell_type": "code",
   "execution_count": 20,
   "metadata": {
    "pycharm": {
     "is_executing": true
    }
   },
   "outputs": [
    {
     "name": "stdout",
     "output_type": "stream",
     "text": [
      "[[ 0.18756731  0.05317415  0.07873563 -0.14489946  0.05770524]\n",
      " [-0.11047113  0.02662763  0.0119503   0.14261134  0.12151422]\n",
      " [ 0.094014   -0.02307256 -0.07868429  0.00142696 -0.09122844]\n",
      " [-0.15433183  0.18733414  0.13548546 -0.09664834 -0.18618916]\n",
      " [-0.16698542  0.0718023   0.18760134  0.15232266 -0.02830856]]\n",
      "(5, 5)\n"
     ]
    },
    {
     "data": {
      "text/plain": [
       "<matplotlib.image.AxesImage at 0x2ad18f4d9a0>"
      ]
     },
     "execution_count": 20,
     "metadata": {},
     "output_type": "execute_result"
    },
    {
     "data": {
      "image/png": "[encoded data removed]",
      "text/plain": [
       "<Figure size 432x288 with 1 Axes>"
      ]
     },
     "metadata": {
      "needs_background": "light"
     },
     "output_type": "display_data"
    }
   ],
   "source": [
    "# Get the weights in the first conv layer, \"conv1\"\n",
    "# if necessary, change this to reflect the name of your first conv layer\n",
    "weights1 = net.conv1.weight.data\n",
    "\n",
    "w = weights1.cpu().numpy()\n",
    "\n",
    "filter_index = 0\n",
    "\n",
    "print(w[filter_index][0])\n",
    "print(w[filter_index][0].shape)\n",
    "\n",
    "# display the filter weights\n",
    "plt.imshow(w[filter_index][0], cmap='gray')\n"
   ]
  },
  {
   "cell_type": "markdown",
   "metadata": {},
   "source": [
    "## Feature maps\n",
    "\n",
    "Each CNN has at least one convolutional layer that is composed of stacked filters (also known as convolutional kernels). As a CNN trains, it learns what weights to include in it's convolutional kernels and when these kernels are applied to some input image, they produce a set of **feature maps**. So, feature maps are just sets of filtered images; they are the images produced by applying a convolutional kernel to an input image. These maps show us the features that the different layers of the neural network learn to extract. For example, you might imagine a convolutional kernel that detects the vertical edges of a face or another one that detects the corners of eyes. You can see what kind of features each of these kernels detects by applying them to an image. One such example is shown below; from the way it brings out the lines in an the image, you might characterize this as an edge detection filter.\n",
    "\n",
    "<img src='images/feature_map_ex.png' width=50% height=50%/>\n",
    "\n",
    "\n",
    "Next, choose a test image and filter it with one of the convolutional kernels in your trained CNN; look at the filtered output to get an idea what that particular kernel detects.\n",
    "\n",
    "### TODO: Filter an image to see the effect of a convolutional kernel\n",
    "---"
   ]
  },
  {
   "cell_type": "code",
   "execution_count": 21,
   "metadata": {
    "pycharm": {
     "is_executing": true
    }
   },
   "outputs": [
    {
     "data": {
      "text/plain": [
       "<matplotlib.image.AxesImage at 0x2ad18fac6d0>"
      ]
     },
     "execution_count": 21,
     "metadata": {},
     "output_type": "execute_result"
    },
    {
     "data": {
      "image/png": "[encoded data removed]",
      "text/plain": [
       "<Figure size 432x288 with 1 Axes>"
      ]
     },
     "metadata": {
      "needs_background": "light"
     },
     "output_type": "display_data"
    }
   ],
   "source": [
    "import cv2\n",
    "import numpy as np\n",
    "##TODO: load in and display any image from the transformed test dataset\n",
    "\n",
    "## TODO: Using cv's filter2D function,\n",
    "## apply a specific set of filter weights (like the one displayed above) to the test image\n",
    "\n",
    "index_img = 5\n",
    "img = np.squeeze(test_images[index_img].data.cpu().numpy())\n",
    "\n",
    "# plt.imshow(img, cmap=\"gray\")\n",
    "\n",
    "filtered_img = cv2.filter2D(img, -1, w[filter_index][0])\n",
    "plt.imshow(filtered_img, cmap=\"gray\")\n"
   ]
  },
  {
   "cell_type": "markdown",
   "metadata": {},
   "source": [
    "### Question 4: Choose one filter from your trained CNN and apply it to a test image; what purpose do you think it plays? What kind of feature do you think it detects?\n"
   ]
  },
  {
   "cell_type": "markdown",
   "metadata": {},
   "source": [
    "**Answer**: It detects vertical lines."
   ]
  },
  {
   "cell_type": "markdown",
   "metadata": {},
   "source": [
    "---\n",
    "## Moving on!\n",
    "\n",
    "Now that you've defined and trained your model (and saved the best model), you are ready to move on to the last notebook, which combines a face detector with your saved model to create a facial keypoint detection system that can predict the keypoints on *any* face in an image!"
   ]
  }
 ],
 "metadata": {
  "kernelspec": {
   "display_name": "Python 3",
   "language": "python",
   "name": "python3"
  },
  "language_info": {
   "codemirror_mode": {
    "name": "ipython",
    "version": 3
   },
   "file_extension": ".py",
   "mimetype": "text/x-python",
   "name": "python",
   "nbconvert_exporter": "python",
   "pygments_lexer": "ipython3",
   "version": "3.8.5"
  }
 },
 "nbformat": 4,
 "nbformat_minor": 2
}